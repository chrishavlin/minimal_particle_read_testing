{
 "cells": [
  {
   "cell_type": "code",
   "execution_count": 1,
   "id": "7ab89b8a-2201-44da-99d1-4ed4b03465f3",
   "metadata": {},
   "outputs": [],
   "source": [
    "import yt\n",
    "from yt.config import ytcfg\n",
    "\n"
   ]
  },
  {
   "cell_type": "code",
   "execution_count": 2,
   "id": "bd026dea-bb4c-4ae4-943e-1ff7a4adf8b1",
   "metadata": {},
   "outputs": [],
   "source": [
    "fn = \"snapshot_033/snap_033.0.hdf5\"\n",
    "field = (\"PartType0\", \"Density\")"
   ]
  },
  {
   "cell_type": "code",
   "execution_count": 7,
   "id": "04ce7f62-d8b6-4732-93c0-2c3edb37c908",
   "metadata": {},
   "outputs": [],
   "source": [
    "ytcfg.set(\"yt\", \"internals\", \"dask_allowed\", False) # the old loader"
   ]
  },
  {
   "cell_type": "code",
   "execution_count": 8,
   "id": "5570a76c-2346-408d-a37b-6af8162d26ac",
   "metadata": {},
   "outputs": [
    {
     "name": "stderr",
     "output_type": "stream",
     "text": [
      "yt : [INFO     ] 2022-06-03 15:12:44,927 Parameters: current_time              = 4.343952725460923e+17 s\n",
      "yt : [INFO     ] 2022-06-03 15:12:44,927 Parameters: domain_dimensions         = [1 1 1]\n",
      "yt : [INFO     ] 2022-06-03 15:12:44,928 Parameters: domain_left_edge          = [0. 0. 0.]\n",
      "yt : [INFO     ] 2022-06-03 15:12:44,929 Parameters: domain_right_edge         = [25. 25. 25.]\n",
      "yt : [INFO     ] 2022-06-03 15:12:44,929 Parameters: cosmological_simulation   = 1\n",
      "yt : [INFO     ] 2022-06-03 15:12:44,929 Parameters: current_redshift          = -4.811891664902035e-05\n",
      "yt : [INFO     ] 2022-06-03 15:12:44,930 Parameters: omega_lambda              = 0.762\n",
      "yt : [INFO     ] 2022-06-03 15:12:44,930 Parameters: omega_matter              = 0.238\n",
      "yt : [INFO     ] 2022-06-03 15:12:44,930 Parameters: omega_radiation           = 0.0\n",
      "yt : [INFO     ] 2022-06-03 15:12:44,931 Parameters: hubble_constant           = 0.73\n",
      "yt : [INFO     ] 2022-06-03 15:12:45,001 Allocating for 4.194e+06 particles\n",
      "Loading particle index: 100%|██████████████████| 12/12 [00:00<00:00, 556.54it/s]\n"
     ]
    },
    {
     "name": "stdout",
     "output_type": "stream",
     "text": [
      "CPU times: user 2.73 s, sys: 28.3 ms, total: 2.76 s\n",
      "Wall time: 2.76 s\n"
     ]
    }
   ],
   "source": [
    "%%time\n",
    "ds = yt.load(fn)\n",
    "ad = ds.sphere(ds.domain_center, ds.domain_width.min()/4.)\n",
    "data_original = ad[field]"
   ]
  },
  {
   "cell_type": "code",
   "execution_count": 9,
   "id": "4839100f-9c04-4f61-a336-6a2fd749a18f",
   "metadata": {},
   "outputs": [],
   "source": [
    "ytcfg.set(\"yt\", \"internals\", \"dask_allowed\", True) # the new loader\n",
    "ytcfg.set(\"yt\", \"internals\", \"dask_enabled\", False) # no delay"
   ]
  },
  {
   "cell_type": "code",
   "execution_count": 10,
   "id": "74cb0d38-2c35-439e-beca-3504327984d5",
   "metadata": {},
   "outputs": [
    {
     "name": "stderr",
     "output_type": "stream",
     "text": [
      "yt : [INFO     ] 2022-06-03 15:12:55,974 Parameters: current_time              = 4.343952725460923e+17 s\n",
      "yt : [INFO     ] 2022-06-03 15:12:55,975 Parameters: domain_dimensions         = [1 1 1]\n",
      "yt : [INFO     ] 2022-06-03 15:12:55,975 Parameters: domain_left_edge          = [0. 0. 0.]\n",
      "yt : [INFO     ] 2022-06-03 15:12:55,976 Parameters: domain_right_edge         = [25. 25. 25.]\n",
      "yt : [INFO     ] 2022-06-03 15:12:55,976 Parameters: cosmological_simulation   = 1\n",
      "yt : [INFO     ] 2022-06-03 15:12:55,977 Parameters: current_redshift          = -4.811891664902035e-05\n",
      "yt : [INFO     ] 2022-06-03 15:12:55,977 Parameters: omega_lambda              = 0.762\n",
      "yt : [INFO     ] 2022-06-03 15:12:55,977 Parameters: omega_matter              = 0.238\n",
      "yt : [INFO     ] 2022-06-03 15:12:55,977 Parameters: omega_radiation           = 0.0\n",
      "yt : [INFO     ] 2022-06-03 15:12:55,978 Parameters: hubble_constant           = 0.73\n",
      "yt : [INFO     ] 2022-06-03 15:12:56,048 Allocating for 4.194e+06 particles\n",
      "Loading particle index: 100%|██████████████████| 12/12 [00:00<00:00, 540.60it/s]\n"
     ]
    },
    {
     "name": "stdout",
     "output_type": "stream",
     "text": [
      "CPU times: user 2.71 s, sys: 51.7 ms, total: 2.77 s\n",
      "Wall time: 2.77 s\n"
     ]
    }
   ],
   "source": [
    "%%time\n",
    "ds = yt.load(fn)\n",
    "ad = ds.sphere(ds.domain_center, ds.domain_width.min()/4.)\n",
    "data_new_nodask = ad[field]"
   ]
  },
  {
   "cell_type": "code",
   "execution_count": 11,
   "id": "ade5a431-73e8-4fbc-8326-7965b59b2d4a",
   "metadata": {},
   "outputs": [],
   "source": [
    "ytcfg.set(\"yt\", \"internals\", \"dask_allowed\", True) # the new loader\n",
    "ytcfg.set(\"yt\", \"internals\", \"dask_enabled\", True) # with delay"
   ]
  },
  {
   "cell_type": "code",
   "execution_count": 1,
   "id": "04855b8b-9318-416c-b18a-c842bfce5db3",
   "metadata": {},
   "outputs": [],
   "source": [
    "from yt.utilities.parallel_tools.dask_helper import dask_client"
   ]
  },
  {
   "cell_type": "code",
   "execution_count": 4,
   "id": "7b185de3-953d-4c34-af76-1c9c25c88d1b",
   "metadata": {},
   "outputs": [],
   "source": [
    "dask_client.start_client(n_workers=6)"
   ]
  },
  {
   "cell_type": "code",
   "execution_count": null,
   "id": "91be5f49-e7e6-4194-a078-f7b269b18947",
   "metadata": {},
   "outputs": [],
   "source": []
  },
  {
   "cell_type": "code",
   "execution_count": 12,
   "id": "6e98e827-3c45-40f5-9ed4-f8837a257568",
   "metadata": {},
   "outputs": [
    {
     "name": "stderr",
     "output_type": "stream",
     "text": [
      "yt : [INFO     ] 2022-06-03 15:13:14,356 Parameters: current_time              = 4.343952725460923e+17 s\n",
      "yt : [INFO     ] 2022-06-03 15:13:14,357 Parameters: domain_dimensions         = [1 1 1]\n",
      "yt : [INFO     ] 2022-06-03 15:13:14,357 Parameters: domain_left_edge          = [0. 0. 0.]\n",
      "yt : [INFO     ] 2022-06-03 15:13:14,358 Parameters: domain_right_edge         = [25. 25. 25.]\n",
      "yt : [INFO     ] 2022-06-03 15:13:14,358 Parameters: cosmological_simulation   = 1\n",
      "yt : [INFO     ] 2022-06-03 15:13:14,358 Parameters: current_redshift          = -4.811891664902035e-05\n",
      "yt : [INFO     ] 2022-06-03 15:13:14,359 Parameters: omega_lambda              = 0.762\n",
      "yt : [INFO     ] 2022-06-03 15:13:14,359 Parameters: omega_matter              = 0.238\n",
      "yt : [INFO     ] 2022-06-03 15:13:14,359 Parameters: omega_radiation           = 0.0\n",
      "yt : [INFO     ] 2022-06-03 15:13:14,360 Parameters: hubble_constant           = 0.73\n",
      "yt : [INFO     ] 2022-06-03 15:13:14,430 Allocating for 4.194e+06 particles\n",
      "Loading particle index: 100%|██████████████████| 12/12 [00:00<00:00, 539.00it/s]\n"
     ]
    },
    {
     "name": "stdout",
     "output_type": "stream",
     "text": [
      "CPU times: user 2.83 s, sys: 28.2 ms, total: 2.85 s\n",
      "Wall time: 2.79 s\n"
     ]
    }
   ],
   "source": [
    "%%time\n",
    "ds = yt.load(fn)\n",
    "ad = ds.sphere(ds.domain_center, ds.domain_width.min()/4.)\n",
    "data_new_dask = ad[field]"
   ]
  },
  {
   "cell_type": "code",
   "execution_count": null,
   "id": "a4d239bc-8325-4818-9393-9e1970ef5009",
   "metadata": {},
   "outputs": [],
   "source": []
  }
 ],
 "metadata": {
  "kernelspec": {
   "display_name": "Python 3 (ipykernel)",
   "language": "python",
   "name": "python3"
  },
  "language_info": {
   "codemirror_mode": {
    "name": "ipython",
    "version": 3
   },
   "file_extension": ".py",
   "mimetype": "text/x-python",
   "name": "python",
   "nbconvert_exporter": "python",
   "pygments_lexer": "ipython3",
   "version": "3.9.7"
  }
 },
 "nbformat": 4,
 "nbformat_minor": 5
}
